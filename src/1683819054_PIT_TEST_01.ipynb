{
 "cells": [
  {
   "cell_type": "code",
   "execution_count": 20,
   "id": "92fc3bb6",
   "metadata": {},
   "outputs": [],
   "source": [
    "from pyspark import SparkConf\n",
    "from pyspark.sql import SparkSession\n",
    "from pyspark.sql.functions import monotonically_increasing_id,col\n",
    "from pyspark.sql.types import *"
   ]
  },
  {
   "cell_type": "code",
   "execution_count": null,
   "id": "e97eca36",
   "metadata": {},
   "outputs": [],
   "source": [
    "#Define entrypoint Spark_App"
   ]
  },
  {
   "cell_type": "code",
   "execution_count": 2,
   "id": "3678dadd",
   "metadata": {},
   "outputs": [
    {
     "data": {
      "text/plain": [
       "<pyspark.conf.SparkConf at 0x7f4205261e20>"
      ]
     },
     "execution_count": 2,
     "metadata": {},
     "output_type": "execute_result"
    }
   ],
   "source": [
    "conf=SparkConf()\n",
    "conf.setAppName(\"spark_iceberg_lession\")\n",
    "conf.setMaster(\"local[6]\")\n",
    "conf.set(\"spark.sql.extensions\",\"org.apache.iceberg.spark.extensions.IcebergSparkSessionExtensions\")\n",
    "conf.set(\"spark.driver.memory\",\"4G\")\n",
    "conf.set(\"spark.executors.memory\",\"2G\")\n",
    "conf.set(\"spark.executors.cores\",2)\n"
   ]
  },
  {
   "cell_type": "code",
   "execution_count": 3,
   "id": "98305d67",
   "metadata": {
    "scrolled": true
   },
   "outputs": [
    {
     "name": "stdout",
     "output_type": "stream",
     "text": [
      "23/05/11 15:06:13 WARN SparkSession: Using an existing Spark session; only runtime SQL configurations will take effect.\n"
     ]
    },
    {
     "data": {
      "text/html": [
       "\n",
       "            <div>\n",
       "                <p><b>SparkSession - in-memory</b></p>\n",
       "                \n",
       "        <div>\n",
       "            <p><b>SparkContext</b></p>\n",
       "\n",
       "            <p><a href=\"http://ca44313f6ad3:4043\">Spark UI</a></p>\n",
       "\n",
       "            <dl>\n",
       "              <dt>Version</dt>\n",
       "                <dd><code>v3.3.2</code></dd>\n",
       "              <dt>Master</dt>\n",
       "                <dd><code>local[*]</code></dd>\n",
       "              <dt>AppName</dt>\n",
       "                <dd><code>PySparkShell</code></dd>\n",
       "            </dl>\n",
       "        </div>\n",
       "        \n",
       "            </div>\n",
       "        "
      ],
      "text/plain": [
       "<pyspark.sql.session.SparkSession at 0x7f4205334ca0>"
      ]
     },
     "execution_count": 3,
     "metadata": {},
     "output_type": "execute_result"
    }
   ],
   "source": [
    "spark=SparkSession.builder.config(conf=conf).getOrCreate()\n",
    "spark"
   ]
  },
  {
   "cell_type": "code",
   "execution_count": 4,
   "id": "c4b8d48e",
   "metadata": {},
   "outputs": [
    {
     "name": "stdout",
     "output_type": "stream",
     "text": [
      "23/05/11 15:06:18 WARN SparkSession: Using an existing Spark session; only runtime SQL configurations will take effect.\n"
     ]
    },
    {
     "data": {
      "text/html": [
       "<table>\n",
       "    <tr>\n",
       "    </tr>\n",
       "</table>"
      ],
      "text/plain": [
       "++\n",
       "||\n",
       "++\n",
       "++"
      ]
     },
     "execution_count": 4,
     "metadata": {},
     "output_type": "execute_result"
    }
   ],
   "source": [
    "%%sql\n",
    "CREATE DATABASE IF NOT EXISTS acb_test"
   ]
  },
  {
   "cell_type": "code",
   "execution_count": 5,
   "id": "a8ded1a3",
   "metadata": {},
   "outputs": [
    {
     "data": {
      "text/plain": [
       "DataFrame[]"
      ]
     },
     "execution_count": 5,
     "metadata": {},
     "output_type": "execute_result"
    }
   ],
   "source": [
    "spark.sql(\"CREATE TABLE IF NOT EXISTS demo.acb_test.PIT \" +\n",
    "    \"(uuid string not null, key string, current_flag int,sysdate long) using iceberg PARTITIONED BY(sysdate)\")"
   ]
  },
  {
   "cell_type": "code",
   "execution_count": 7,
   "id": "422e0c20",
   "metadata": {},
   "outputs": [
    {
     "data": {
      "text/html": [
       "<table>\n",
       "    <tr>\n",
       "    </tr>\n",
       "</table>"
      ],
      "text/plain": [
       "++\n",
       "||\n",
       "++\n",
       "++"
      ]
     },
     "execution_count": 7,
     "metadata": {},
     "output_type": "execute_result"
    }
   ],
   "source": [
    "%%sql\n",
    "use acb_test"
   ]
  },
  {
   "cell_type": "code",
   "execution_count": 8,
   "id": "57c75b9e",
   "metadata": {},
   "outputs": [
    {
     "data": {
      "text/html": [
       "<table>\n",
       "    <tr>\n",
       "        <th>namespace</th>\n",
       "        <th>tableName</th>\n",
       "        <th>isTemporary</th>\n",
       "    </tr>\n",
       "    <tr>\n",
       "        <td>acb_test</td>\n",
       "        <td>PIT</td>\n",
       "        <td>False</td>\n",
       "    </tr>\n",
       "</table>"
      ],
      "text/plain": [
       "+-----------+-----------+-------------+\n",
       "| namespace | tableName | isTemporary |\n",
       "+-----------+-----------+-------------+\n",
       "|  acb_test |       PIT |       False |\n",
       "+-----------+-----------+-------------+"
      ]
     },
     "execution_count": 8,
     "metadata": {},
     "output_type": "execute_result"
    }
   ],
   "source": [
    "%%sql\n",
    "show tables "
   ]
  },
  {
   "cell_type": "code",
   "execution_count": 9,
   "id": "2a91ec32",
   "metadata": {},
   "outputs": [
    {
     "data": {
      "text/html": [
       "<table>\n",
       "    <tr>\n",
       "        <th>uuid</th>\n",
       "        <th>key</th>\n",
       "        <th>current_flag</th>\n",
       "        <th>sysdate</th>\n",
       "    </tr>\n",
       "</table>"
      ],
      "text/plain": [
       "+------+-----+--------------+---------+\n",
       "| uuid | key | current_flag | sysdate |\n",
       "+------+-----+--------------+---------+\n",
       "+------+-----+--------------+---------+"
      ]
     },
     "execution_count": 9,
     "metadata": {},
     "output_type": "execute_result"
    }
   ],
   "source": [
    "%%sql\n",
    "select * from PIT"
   ]
  },
  {
   "cell_type": "code",
   "execution_count": null,
   "id": "75151154",
   "metadata": {},
   "outputs": [],
   "source": [
    "# inital load data to PIT"
   ]
  },
  {
   "cell_type": "code",
   "execution_count": 10,
   "id": "b2bb2abc",
   "metadata": {},
   "outputs": [
    {
     "name": "stderr",
     "output_type": "stream",
     "text": [
      "SLF4J: Failed to load class \"org.slf4j.impl.StaticLoggerBinder\".\n",
      "SLF4J: Defaulting to no-operation (NOP) logger implementation\n",
      "SLF4J: See http://www.slf4j.org/codes.html#StaticLoggerBinder for further details.\n",
      "                                                                                \r"
     ]
    },
    {
     "data": {
      "text/plain": [
       "DataFrame[]"
      ]
     },
     "execution_count": 10,
     "metadata": {},
     "output_type": "execute_result"
    }
   ],
   "source": [
    "spark.sql(\"INSERT INTO demo.acb_test.PIT \" +\n",
    "    \"VALUES ('1', 'A', 1,20230506),('2', 'B', 1,20230507)\")"
   ]
  },
  {
   "cell_type": "code",
   "execution_count": 11,
   "id": "81ae3465",
   "metadata": {},
   "outputs": [
    {
     "name": "stderr",
     "output_type": "stream",
     "text": [
      "                                                                                \r"
     ]
    },
    {
     "data": {
      "text/html": [
       "<table>\n",
       "    <tr>\n",
       "        <th>uuid</th>\n",
       "        <th>key</th>\n",
       "        <th>current_flag</th>\n",
       "        <th>sysdate</th>\n",
       "    </tr>\n",
       "    <tr>\n",
       "        <td>1</td>\n",
       "        <td>A</td>\n",
       "        <td>1</td>\n",
       "        <td>20230506</td>\n",
       "    </tr>\n",
       "    <tr>\n",
       "        <td>2</td>\n",
       "        <td>B</td>\n",
       "        <td>1</td>\n",
       "        <td>20230507</td>\n",
       "    </tr>\n",
       "</table>"
      ],
      "text/plain": [
       "+------+-----+--------------+----------+\n",
       "| uuid | key | current_flag |  sysdate |\n",
       "+------+-----+--------------+----------+\n",
       "|    1 |   A |            1 | 20230506 |\n",
       "|    2 |   B |            1 | 20230507 |\n",
       "+------+-----+--------------+----------+"
      ]
     },
     "execution_count": 11,
     "metadata": {},
     "output_type": "execute_result"
    }
   ],
   "source": [
    "%%sql\n",
    "select * from PIT"
   ]
  },
  {
   "cell_type": "code",
   "execution_count": 12,
   "id": "ab0cf03e",
   "metadata": {},
   "outputs": [
    {
     "data": {
      "text/html": [
       "<table>\n",
       "    <tr>\n",
       "        <th>col_name</th>\n",
       "        <th>data_type</th>\n",
       "        <th>comment</th>\n",
       "    </tr>\n",
       "    <tr>\n",
       "        <td>uuid</td>\n",
       "        <td>string</td>\n",
       "        <td></td>\n",
       "    </tr>\n",
       "    <tr>\n",
       "        <td>key</td>\n",
       "        <td>string</td>\n",
       "        <td></td>\n",
       "    </tr>\n",
       "    <tr>\n",
       "        <td>current_flag</td>\n",
       "        <td>int</td>\n",
       "        <td></td>\n",
       "    </tr>\n",
       "    <tr>\n",
       "        <td>sysdate</td>\n",
       "        <td>bigint</td>\n",
       "        <td></td>\n",
       "    </tr>\n",
       "    <tr>\n",
       "        <td></td>\n",
       "        <td></td>\n",
       "        <td></td>\n",
       "    </tr>\n",
       "    <tr>\n",
       "        <td># Partitioning</td>\n",
       "        <td></td>\n",
       "        <td></td>\n",
       "    </tr>\n",
       "    <tr>\n",
       "        <td>Part 0</td>\n",
       "        <td>sysdate</td>\n",
       "        <td></td>\n",
       "    </tr>\n",
       "    <tr>\n",
       "        <td></td>\n",
       "        <td></td>\n",
       "        <td></td>\n",
       "    </tr>\n",
       "    <tr>\n",
       "        <td># Metadata Columns</td>\n",
       "        <td></td>\n",
       "        <td></td>\n",
       "    </tr>\n",
       "    <tr>\n",
       "        <td>_spec_id</td>\n",
       "        <td>int</td>\n",
       "        <td></td>\n",
       "    </tr>\n",
       "    <tr>\n",
       "        <td>_partition</td>\n",
       "        <td>struct&lt;sysdate:bigint&gt;</td>\n",
       "        <td></td>\n",
       "    </tr>\n",
       "    <tr>\n",
       "        <td>_file</td>\n",
       "        <td>string</td>\n",
       "        <td></td>\n",
       "    </tr>\n",
       "    <tr>\n",
       "        <td>_pos</td>\n",
       "        <td>bigint</td>\n",
       "        <td></td>\n",
       "    </tr>\n",
       "    <tr>\n",
       "        <td>_deleted</td>\n",
       "        <td>boolean</td>\n",
       "        <td></td>\n",
       "    </tr>\n",
       "    <tr>\n",
       "        <td></td>\n",
       "        <td></td>\n",
       "        <td></td>\n",
       "    </tr>\n",
       "    <tr>\n",
       "        <td># Detailed Table Information</td>\n",
       "        <td></td>\n",
       "        <td></td>\n",
       "    </tr>\n",
       "    <tr>\n",
       "        <td>Name</td>\n",
       "        <td>demo.acb_test.PIT</td>\n",
       "        <td></td>\n",
       "    </tr>\n",
       "    <tr>\n",
       "        <td>Location</td>\n",
       "        <td>s3://warehouse/acb_test/PIT</td>\n",
       "        <td></td>\n",
       "    </tr>\n",
       "    <tr>\n",
       "        <td>Provider</td>\n",
       "        <td>iceberg</td>\n",
       "        <td></td>\n",
       "    </tr>\n",
       "    <tr>\n",
       "        <td>Owner</td>\n",
       "        <td>root</td>\n",
       "        <td></td>\n",
       "    </tr>\n",
       "    <tr>\n",
       "        <td>Table Properties</td>\n",
       "        <td>[current-snapshot-id=4159677354730022967,format=iceberg/parquet,format-version=1]</td>\n",
       "        <td></td>\n",
       "    </tr>\n",
       "</table>"
      ],
      "text/plain": [
       "+------------------------------+-----------------------------------------------------------------------------------+---------+\n",
       "|                     col_name |                                                                         data_type | comment |\n",
       "+------------------------------+-----------------------------------------------------------------------------------+---------+\n",
       "|                         uuid |                                                                            string |         |\n",
       "|                          key |                                                                            string |         |\n",
       "|                 current_flag |                                                                               int |         |\n",
       "|                      sysdate |                                                                            bigint |         |\n",
       "|                              |                                                                                   |         |\n",
       "|               # Partitioning |                                                                                   |         |\n",
       "|                       Part 0 |                                                                           sysdate |         |\n",
       "|                              |                                                                                   |         |\n",
       "|           # Metadata Columns |                                                                                   |         |\n",
       "|                     _spec_id |                                                                               int |         |\n",
       "|                   _partition |                                                            struct<sysdate:bigint> |         |\n",
       "|                        _file |                                                                            string |         |\n",
       "|                         _pos |                                                                            bigint |         |\n",
       "|                     _deleted |                                                                           boolean |         |\n",
       "|                              |                                                                                   |         |\n",
       "| # Detailed Table Information |                                                                                   |         |\n",
       "|                         Name |                                                                 demo.acb_test.PIT |         |\n",
       "|                     Location |                                                       s3://warehouse/acb_test/PIT |         |\n",
       "|                     Provider |                                                                           iceberg |         |\n",
       "|                        Owner |                                                                              root |         |\n",
       "|             Table Properties | [current-snapshot-id=4159677354730022967,format=iceberg/parquet,format-version=1] |         |\n",
       "+------------------------------+-----------------------------------------------------------------------------------+---------+"
      ]
     },
     "execution_count": 12,
     "metadata": {},
     "output_type": "execute_result"
    }
   ],
   "source": [
    "%%sql\n",
    "describe extended PIT"
   ]
  },
  {
   "cell_type": "code",
   "execution_count": null,
   "id": "b2f7de0d",
   "metadata": {},
   "outputs": [],
   "source": [
    "# new data generators"
   ]
  },
  {
   "cell_type": "code",
   "execution_count": 14,
   "id": "3fe13a48",
   "metadata": {},
   "outputs": [],
   "source": [
    "spark.sql(\"select '4' as uuid, 'B' as key,1 as current_flag, 20230508 as sysdate union select '5' as uuid, 'C' as key,1 as current_flag, 20230516 as sysdate\").createOrReplaceTempView(\"new_data\")"
   ]
  },
  {
   "cell_type": "code",
   "execution_count": 15,
   "id": "27bff165",
   "metadata": {},
   "outputs": [
    {
     "data": {
      "text/html": [
       "<table>\n",
       "    <tr>\n",
       "        <th>uuid</th>\n",
       "        <th>key</th>\n",
       "        <th>current_flag</th>\n",
       "        <th>sysdate</th>\n",
       "    </tr>\n",
       "    <tr>\n",
       "        <td>4</td>\n",
       "        <td>B</td>\n",
       "        <td>1</td>\n",
       "        <td>20230508</td>\n",
       "    </tr>\n",
       "    <tr>\n",
       "        <td>5</td>\n",
       "        <td>C</td>\n",
       "        <td>1</td>\n",
       "        <td>20230516</td>\n",
       "    </tr>\n",
       "</table>"
      ],
      "text/plain": [
       "+------+-----+--------------+----------+\n",
       "| uuid | key | current_flag |  sysdate |\n",
       "+------+-----+--------------+----------+\n",
       "|    4 |   B |            1 | 20230508 |\n",
       "|    5 |   C |            1 | 20230516 |\n",
       "+------+-----+--------------+----------+"
      ]
     },
     "execution_count": 15,
     "metadata": {},
     "output_type": "execute_result"
    }
   ],
   "source": [
    "%%sql\n",
    "select * from new_data"
   ]
  },
  {
   "cell_type": "code",
   "execution_count": 24,
   "id": "14c3cc4a",
   "metadata": {},
   "outputs": [],
   "source": [
    "merge_table='demo.acb_test.PIT'\n",
    "new_data_df='new_data'"
   ]
  },
  {
   "cell_type": "code",
   "execution_count": 32,
   "id": "ecc1623b",
   "metadata": {},
   "outputs": [],
   "source": [
    "update_curent_flag=f\" MERGE INTO {merge_table} old USING (select DISTINCT * from {new_data_df}) new on old.key=new.key WHEN MATCHED AND new.sysdate>old.sysdate THEN  UPDATE SET old.current_flag=0 WHEN NOT MATCHED THEN INSERT * \""
   ]
  },
  {
   "cell_type": "code",
   "execution_count": 33,
   "id": "f2a8c389",
   "metadata": {},
   "outputs": [
    {
     "data": {
      "text/plain": [
       "DataFrame[]"
      ]
     },
     "execution_count": 33,
     "metadata": {},
     "output_type": "execute_result"
    }
   ],
   "source": [
    "spark.sql(update_curent_flag)"
   ]
  },
  {
   "cell_type": "code",
   "execution_count": 34,
   "id": "e3348473",
   "metadata": {},
   "outputs": [
    {
     "data": {
      "text/html": [
       "<table>\n",
       "    <tr>\n",
       "        <th>uuid</th>\n",
       "        <th>key</th>\n",
       "        <th>current_flag</th>\n",
       "        <th>sysdate</th>\n",
       "    </tr>\n",
       "    <tr>\n",
       "        <td>1</td>\n",
       "        <td>A</td>\n",
       "        <td>1</td>\n",
       "        <td>20230506</td>\n",
       "    </tr>\n",
       "    <tr>\n",
       "        <td>2</td>\n",
       "        <td>B</td>\n",
       "        <td>0</td>\n",
       "        <td>20230507</td>\n",
       "    </tr>\n",
       "    <tr>\n",
       "        <td>5</td>\n",
       "        <td>C</td>\n",
       "        <td>1</td>\n",
       "        <td>20230516</td>\n",
       "    </tr>\n",
       "</table>"
      ],
      "text/plain": [
       "+------+-----+--------------+----------+\n",
       "| uuid | key | current_flag |  sysdate |\n",
       "+------+-----+--------------+----------+\n",
       "|    1 |   A |            1 | 20230506 |\n",
       "|    2 |   B |            0 | 20230507 |\n",
       "|    5 |   C |            1 | 20230516 |\n",
       "+------+-----+--------------+----------+"
      ]
     },
     "execution_count": 34,
     "metadata": {},
     "output_type": "execute_result"
    }
   ],
   "source": [
    "%%sql\n",
    "select * from PIT"
   ]
  },
  {
   "cell_type": "code",
   "execution_count": 38,
   "id": "90c95c89",
   "metadata": {},
   "outputs": [],
   "source": [
    "add_latest_record=f\"MERGE INTO {merge_table} old USING (select DISTINCT * from new_data) new on old.key=new.key AND new.sysdate<=old.sysdate WHEN NOT MATCHED THEN INSERT *\""
   ]
  },
  {
   "cell_type": "code",
   "execution_count": 39,
   "id": "df18ffe5",
   "metadata": {},
   "outputs": [
    {
     "data": {
      "text/plain": [
       "DataFrame[]"
      ]
     },
     "execution_count": 39,
     "metadata": {},
     "output_type": "execute_result"
    }
   ],
   "source": [
    "spark.sql(add_latest_record)"
   ]
  },
  {
   "cell_type": "code",
   "execution_count": 40,
   "id": "00df332f",
   "metadata": {},
   "outputs": [
    {
     "data": {
      "text/html": [
       "<table>\n",
       "    <tr>\n",
       "        <th>uuid</th>\n",
       "        <th>key</th>\n",
       "        <th>current_flag</th>\n",
       "        <th>sysdate</th>\n",
       "    </tr>\n",
       "    <tr>\n",
       "        <td>2</td>\n",
       "        <td>B</td>\n",
       "        <td>0</td>\n",
       "        <td>20230507</td>\n",
       "    </tr>\n",
       "    <tr>\n",
       "        <td>4</td>\n",
       "        <td>B</td>\n",
       "        <td>1</td>\n",
       "        <td>20230508</td>\n",
       "    </tr>\n",
       "    <tr>\n",
       "        <td>5</td>\n",
       "        <td>C</td>\n",
       "        <td>1</td>\n",
       "        <td>20230516</td>\n",
       "    </tr>\n",
       "    <tr>\n",
       "        <td>1</td>\n",
       "        <td>A</td>\n",
       "        <td>1</td>\n",
       "        <td>20230506</td>\n",
       "    </tr>\n",
       "</table>"
      ],
      "text/plain": [
       "+------+-----+--------------+----------+\n",
       "| uuid | key | current_flag |  sysdate |\n",
       "+------+-----+--------------+----------+\n",
       "|    2 |   B |            0 | 20230507 |\n",
       "|    4 |   B |            1 | 20230508 |\n",
       "|    5 |   C |            1 | 20230516 |\n",
       "|    1 |   A |            1 | 20230506 |\n",
       "+------+-----+--------------+----------+"
      ]
     },
     "execution_count": 40,
     "metadata": {},
     "output_type": "execute_result"
    }
   ],
   "source": [
    "%%sql\n",
    "select * from PIT"
   ]
  },
  {
   "cell_type": "code",
   "execution_count": null,
   "id": "d3d37b2f",
   "metadata": {},
   "outputs": [],
   "source": []
  },
  {
   "cell_type": "code",
   "execution_count": null,
   "id": "6ee3a12f",
   "metadata": {},
   "outputs": [],
   "source": []
  },
  {
   "cell_type": "code",
   "execution_count": null,
   "id": "618192a8",
   "metadata": {},
   "outputs": [],
   "source": []
  },
  {
   "cell_type": "code",
   "execution_count": null,
   "id": "fc909577",
   "metadata": {},
   "outputs": [],
   "source": []
  },
  {
   "cell_type": "code",
   "execution_count": null,
   "id": "9767ee48",
   "metadata": {},
   "outputs": [],
   "source": []
  },
  {
   "cell_type": "code",
   "execution_count": null,
   "id": "749ff37c",
   "metadata": {},
   "outputs": [],
   "source": []
  }
 ],
 "metadata": {
  "kernelspec": {
   "display_name": "Python 3 (ipykernel)",
   "language": "python",
   "name": "python3"
  },
  "language_info": {
   "codemirror_mode": {
    "name": "ipython",
    "version": 3
   },
   "file_extension": ".py",
   "mimetype": "text/x-python",
   "name": "python",
   "nbconvert_exporter": "python",
   "pygments_lexer": "ipython3",
   "version": "3.9.16"
  }
 },
 "nbformat": 4,
 "nbformat_minor": 5
}
